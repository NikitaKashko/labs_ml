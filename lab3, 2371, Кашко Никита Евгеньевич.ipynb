{
 "cells": [
  {
   "cell_type": "markdown",
   "id": "d84b3887-1db4-43c7-9411-1af06214f15a",
   "metadata": {},
   "source": [
    "# Лабораторная работа №3 по теме \"Исследоавние алгоритмов классификации\""
   ]
  },
  {
   "cell_type": "markdown",
   "id": "9967775f-5ea6-46bd-ba07-9b170ec807cb",
   "metadata": {},
   "source": [
    "#### Выполнил: Кашко Никита 2371"
   ]
  },
  {
   "cell_type": "markdown",
   "id": "f57afea9-e1ec-4b28-b286-7d35996d8cde",
   "metadata": {},
   "source": [
    "Проверим на сбалансированность атрибуты \"type\" и \"region\""
   ]
  },
  {
   "cell_type": "code",
   "execution_count": 67,
   "id": "69f73708-bc91-43b0-b81b-f6c396668371",
   "metadata": {},
   "outputs": [],
   "source": [
    "import pandas as pd\n",
    "import matplotlib.pyplot as plt"
   ]
  },
  {
   "cell_type": "code",
   "execution_count": 68,
   "id": "e1536eb1-3e17-4f4d-8770-f7db2faa33a2",
   "metadata": {},
   "outputs": [
    {
     "data": {
      "text/html": [
       "<div>\n",
       "<style scoped>\n",
       "    .dataframe tbody tr th:only-of-type {\n",
       "        vertical-align: middle;\n",
       "    }\n",
       "\n",
       "    .dataframe tbody tr th {\n",
       "        vertical-align: top;\n",
       "    }\n",
       "\n",
       "    .dataframe thead th {\n",
       "        text-align: right;\n",
       "    }\n",
       "</style>\n",
       "<table border=\"1\" class=\"dataframe\">\n",
       "  <thead>\n",
       "    <tr style=\"text-align: right;\">\n",
       "      <th></th>\n",
       "      <th>Unnamed: 0</th>\n",
       "      <th>Date</th>\n",
       "      <th>AveragePrice</th>\n",
       "      <th>Total Volume</th>\n",
       "      <th>4046</th>\n",
       "      <th>4225</th>\n",
       "      <th>4770</th>\n",
       "      <th>Total Bags</th>\n",
       "      <th>Small Bags</th>\n",
       "      <th>Large Bags</th>\n",
       "      <th>XLarge Bags</th>\n",
       "      <th>type</th>\n",
       "      <th>year</th>\n",
       "      <th>region</th>\n",
       "    </tr>\n",
       "  </thead>\n",
       "  <tbody>\n",
       "    <tr>\n",
       "      <th>0</th>\n",
       "      <td>0</td>\n",
       "      <td>2015-12-27</td>\n",
       "      <td>1.33</td>\n",
       "      <td>64236.62</td>\n",
       "      <td>1036.74</td>\n",
       "      <td>54454.85</td>\n",
       "      <td>48.16</td>\n",
       "      <td>8696.87</td>\n",
       "      <td>8603.62</td>\n",
       "      <td>93.25</td>\n",
       "      <td>0.0</td>\n",
       "      <td>conventional</td>\n",
       "      <td>2015</td>\n",
       "      <td>Albany</td>\n",
       "    </tr>\n",
       "    <tr>\n",
       "      <th>1</th>\n",
       "      <td>1</td>\n",
       "      <td>2015-12-20</td>\n",
       "      <td>1.35</td>\n",
       "      <td>54876.98</td>\n",
       "      <td>674.28</td>\n",
       "      <td>44638.81</td>\n",
       "      <td>58.33</td>\n",
       "      <td>9505.56</td>\n",
       "      <td>9408.07</td>\n",
       "      <td>97.49</td>\n",
       "      <td>0.0</td>\n",
       "      <td>conventional</td>\n",
       "      <td>2015</td>\n",
       "      <td>Albany</td>\n",
       "    </tr>\n",
       "  </tbody>\n",
       "</table>\n",
       "</div>"
      ],
      "text/plain": [
       "   Unnamed: 0        Date  AveragePrice  Total Volume     4046      4225  \\\n",
       "0           0  2015-12-27          1.33      64236.62  1036.74  54454.85   \n",
       "1           1  2015-12-20          1.35      54876.98   674.28  44638.81   \n",
       "\n",
       "    4770  Total Bags  Small Bags  Large Bags  XLarge Bags          type  year  \\\n",
       "0  48.16     8696.87     8603.62       93.25          0.0  conventional  2015   \n",
       "1  58.33     9505.56     9408.07       97.49          0.0  conventional  2015   \n",
       "\n",
       "   region  \n",
       "0  Albany  \n",
       "1  Albany  "
      ]
     },
     "execution_count": 68,
     "metadata": {},
     "output_type": "execute_result"
    }
   ],
   "source": [
    "df = pd.read_csv('avocado.csv')\n",
    "df.head(2) # Проверим правильность импорта данных"
   ]
  },
  {
   "cell_type": "code",
   "execution_count": 69,
   "id": "88c3456f-296d-4dd0-8dd3-43d2a6177692",
   "metadata": {},
   "outputs": [
    {
     "data": {
      "text/plain": [
       "type\n",
       "conventional    9126\n",
       "organic         9123\n",
       "Name: count, dtype: int64"
      ]
     },
     "execution_count": 69,
     "metadata": {},
     "output_type": "execute_result"
    }
   ],
   "source": [
    "df['type'].value_counts() # Данные импортированы, сосчитаем сколько записей по типу и региону есть в датасете"
   ]
  },
  {
   "cell_type": "code",
   "execution_count": 70,
   "id": "fbf51370-6caa-4682-a041-03a9cf9d30f4",
   "metadata": {},
   "outputs": [
    {
     "data": {
      "text/plain": [
       "region\n",
       "Albany                 338\n",
       "Atlanta                338\n",
       "BaltimoreWashington    338\n",
       "Boise                  338\n",
       "Boston                 338\n",
       "BuffaloRochester       338\n",
       "California             338\n",
       "Charlotte              338\n",
       "Chicago                338\n",
       "CincinnatiDayton       338\n",
       "Columbus               338\n",
       "DallasFtWorth          338\n",
       "Denver                 338\n",
       "Detroit                338\n",
       "GrandRapids            338\n",
       "GreatLakes             338\n",
       "HarrisburgScranton     338\n",
       "HartfordSpringfield    338\n",
       "Houston                338\n",
       "Indianapolis           338\n",
       "Jacksonville           338\n",
       "LasVegas               338\n",
       "LosAngeles             338\n",
       "Louisville             338\n",
       "MiamiFtLauderdale      338\n",
       "Midsouth               338\n",
       "Nashville              338\n",
       "NewOrleansMobile       338\n",
       "NewYork                338\n",
       "Northeast              338\n",
       "NorthernNewEngland     338\n",
       "Orlando                338\n",
       "Philadelphia           338\n",
       "PhoenixTucson          338\n",
       "Pittsburgh             338\n",
       "Plains                 338\n",
       "Portland               338\n",
       "RaleighGreensboro      338\n",
       "RichmondNorfolk        338\n",
       "Roanoke                338\n",
       "Sacramento             338\n",
       "SanDiego               338\n",
       "SanFrancisco           338\n",
       "Seattle                338\n",
       "SouthCarolina          338\n",
       "SouthCentral           338\n",
       "Southeast              338\n",
       "Spokane                338\n",
       "StLouis                338\n",
       "Syracuse               338\n",
       "Tampa                  338\n",
       "TotalUS                338\n",
       "West                   338\n",
       "WestTexNewMexico       335\n",
       "Name: count, dtype: int64"
      ]
     },
     "execution_count": 70,
     "metadata": {},
     "output_type": "execute_result"
    }
   ],
   "source": [
    "df['region'].value_counts()"
   ]
  },
  {
   "cell_type": "markdown",
   "id": "69a6ca4a-e3ed-4d0a-84a1-e24ee62d2cde",
   "metadata": {},
   "source": [
    "Можно заметить, что классы по обоим атрибутам свбалансированы, однако классов по атрибуту region слишком много, поэтому выберем для целевого класса атрибут \"type\". Сбалансированность классов играет ключевую роль для оценки качества обучения модели, поэтому следует либо выбирать наборы данных со сбалансированными классами, либо бороться с несбалансированностью применяя разные методы. В нашем случае нам повезло и классы по атрибуту \"type\" оказались сбалансированы. Разделим выборку на обучающую и тестовую выборки, предварительно заменив типы conventional и organic на 0 и 1 соответственно и уберём все нечисловые поля в выборке."
   ]
  },
  {
   "cell_type": "code",
   "execution_count": 71,
   "id": "a2f17a48-fd94-46f8-9d00-c16e4d8c9448",
   "metadata": {},
   "outputs": [],
   "source": [
    "from sklearn.model_selection import train_test_split # функция для разделения выборки на тестовую и обучающую"
   ]
  },
  {
   "cell_type": "code",
   "execution_count": 75,
   "id": "2762e3fe-d635-4334-8edb-564f3d138947",
   "metadata": {},
   "outputs": [
    {
     "name": "stdout",
     "output_type": "stream",
     "text": [
      "Поля уже удалены!\n"
     ]
    }
   ],
   "source": [
    "df['type'] = df['type'].replace({'organic': 0, 'conventional': 1})\n",
    "try:\n",
    "    df = df.drop(columns = ['Date', 'region'])\n",
    "except KeyError:\n",
    "    print('Поля уже удалены!')\n",
    "x_train, x_test, y_train, y_test = train_test_split(df.drop(df.columns[[10]], axis=1), df['type'], test_size = 0.25, random_state = 52)"
   ]
  },
  {
   "cell_type": "markdown",
   "id": "ad854927-7817-4566-b59f-540b4ea0bd76",
   "metadata": {},
   "source": [
    "На этом этапе работы, когда обучающие и тренировочные выборки созданы, целевой класс определён, приступим к самому интересному - обучению моделей и сравниванию их эффективности. Для этого поключим соответствующие модели из бибилотеки Scikit-Learn."
   ]
  },
  {
   "cell_type": "code",
   "execution_count": 76,
   "id": "fdd680c7-ca43-448e-b260-ef9d0319c5aa",
   "metadata": {},
   "outputs": [],
   "source": [
    "from sklearn.neighbors import KNeighborsClassifier\n",
    "from sklearn.tree import DecisionTreeClassifier"
   ]
  },
  {
   "cell_type": "code",
   "execution_count": 77,
   "id": "3e374c65-f076-4962-afbb-fcff259d1a50",
   "metadata": {
    "scrolled": true
   },
   "outputs": [],
   "source": [
    "KNN = KNeighborsClassifier(n_neighbors=2)\n",
    "DECISION_TREE = DecisionTreeClassifier(random_state=52)\n",
    "\n",
    "KNN.fit(x_train, y_train)\n",
    "\n",
    "DECISION_TREE.fit(x_train, y_train)\n",
    "\n",
    "y_tree_predicted = DECISION_TREE.predict(x_test)\n",
    "y_knn_predicted = KNN.predict(x_test)"
   ]
  },
  {
   "cell_type": "markdown",
   "id": "7c431ee3-a16f-412f-92e4-f1e710b05d0e",
   "metadata": {},
   "source": [
    "Библиотека scikit-learn предоставляет большое количество метрик для оценки обучения модели. Посмотрим на них и сделаем соответвующие им выводы. Подключим classification report из Scikit-learn чтобы посмотреть на метрики результата работы моделей на тестовых данных."
   ]
  },
  {
   "cell_type": "code",
   "execution_count": 78,
   "id": "deac1b43-0909-4fc9-9511-5f4d8f8e520c",
   "metadata": {},
   "outputs": [],
   "source": [
    "from sklearn.metrics import classification_report"
   ]
  },
  {
   "cell_type": "markdown",
   "id": "cedbc680-c363-4e58-8012-a3bac3464ca2",
   "metadata": {},
   "source": [
    "Метрики метода KNN:"
   ]
  },
  {
   "cell_type": "code",
   "execution_count": 79,
   "id": "650235bb-caf5-4cfd-baf3-fa68543e78b7",
   "metadata": {},
   "outputs": [
    {
     "name": "stdout",
     "output_type": "stream",
     "text": [
      "              precision    recall  f1-score   support\n",
      "\n",
      "           0       0.97      0.98      0.97      2303\n",
      "           1       0.98      0.96      0.97      2260\n",
      "\n",
      "    accuracy                           0.97      4563\n",
      "   macro avg       0.97      0.97      0.97      4563\n",
      "weighted avg       0.97      0.97      0.97      4563\n",
      "\n"
     ]
    }
   ],
   "source": [
    "print(classification_report(y_test, y_knn_predicted))"
   ]
  },
  {
   "cell_type": "markdown",
   "id": "7a275299-2ca2-4175-9da7-5eea5793a4bf",
   "metadata": {},
   "source": [
    "Метрики метода дерева решений:"
   ]
  },
  {
   "cell_type": "code",
   "execution_count": 81,
   "id": "ddc6800d-b672-4df6-8448-2a34b0a53137",
   "metadata": {},
   "outputs": [
    {
     "name": "stdout",
     "output_type": "stream",
     "text": [
      "              precision    recall  f1-score   support\n",
      "\n",
      "           0       0.99      0.99      0.99      2303\n",
      "           1       0.99      0.99      0.99      2260\n",
      "\n",
      "    accuracy                           0.99      4563\n",
      "   macro avg       0.99      0.99      0.99      4563\n",
      "weighted avg       0.99      0.99      0.99      4563\n",
      "\n"
     ]
    }
   ],
   "source": [
    "print(classification_report(y_test, y_tree_predicted))"
   ]
  },
  {
   "cell_type": "markdown",
   "id": "176ae748-9f79-4230-aeed-5413ebfe1021",
   "metadata": {},
   "source": [
    "Для наглядности построим кривые ошибок (ROC)  посчитаем показатель AUC(Area Undre Curve) для сравнения методов классификации. Для этого подключим функции roc_curve и auc для вычисления параметров ROC кривой и площади под графиком."
   ]
  },
  {
   "cell_type": "code",
   "execution_count": 84,
   "id": "f4622700-ac53-4c65-a8bf-56eb0b686698",
   "metadata": {},
   "outputs": [],
   "source": [
    "from sklearn.metrics import roc_curve, auc"
   ]
  },
  {
   "cell_type": "code",
   "execution_count": 85,
   "id": "78713ae5-554e-47e7-927f-1ffb4bd4fcd0",
   "metadata": {},
   "outputs": [
    {
     "data": {
      "image/png": "[encoded data removed]",
      "text/plain": [
       "<Figure size 640x480 with 1 Axes>"
      ]
     },
     "metadata": {},
     "output_type": "display_data"
    }
   ],
   "source": [
    "# Получим вероятности предсказаний\n",
    "y_knn_prob = KNN.predict_proba(x_test)[:, 1]  # Вероятности для положительного класса\n",
    "y_tree_prob = DECISION_TREE.predict_proba(x_test)[:, 1]\n",
    "\n",
    "# вычислим ROC кривую\n",
    "fpr_knn, tpr_knn, _ = roc_curve(y_test, y_knn_prob)\n",
    "fpr_tree, tpr_tree, _ = roc_curve(y_test, y_tree_prob)\n",
    "\n",
    "# вычислим площадь под графиком ROC кривой (показатель AUC)\n",
    "roc_auc_knn = auc(fpr_knn, tpr_knn)\n",
    "roc_auc_tree = auc(fpr_tree, tpr_tree)\n",
    "\n",
    "# построим ROC кривую\n",
    "plt.figure()\n",
    "plt.plot(fpr_knn, tpr_knn, color='blue', lw=2, label='KNN (AUC = {:.2f})'.format(roc_auc_knn))\n",
    "plt.plot(fpr_tree, tpr_tree, color='green', lw=2, label='Decision Tree (AUC = {:.2f})'.format(roc_auc_tree))\n",
    "plt.plot([0, 1], [0, 1], color='red', linestyle='--')  # Линия случайного выбора\n",
    "plt.xlim([0.0, 1.0])\n",
    "plt.ylim([0.0, 1.05])\n",
    "plt.xlabel('Ложные положительные срабатывания')\n",
    "plt.ylabel('Истинные положительные срабатывания')\n",
    "plt.title('ROC-кривая')\n",
    "plt.legend(loc='lower right')\n",
    "plt.show()"
   ]
  },
  {
   "cell_type": "markdown",
   "id": "f4814439-e879-482b-bc84-9b3c8fda0d12",
   "metadata": {},
   "source": [
    "Если судить по графику ROC и значениям AUC, то обе модели работают практически идеально. Однако незначительно (0.99 > 0.98) выигрывает по точности дерева решений. Это можно обьяснить большим количество нелинейных зависимостей атрибута type, с определением которых дерево решений справляетсся лучше, чем метод KNN. В общем и целом, конечно показатели предсказаний моделей зашкаливающие, ввиду характера датасета, он специально создан для обучения, ввиду чего модели показали очень хороший результат. В реальности же, что кривые ROC, что метрики, я полагаю, будут отличаться в худшую сторону."
   ]
  },
  {
   "cell_type": "markdown",
   "id": "c6c96350-7ed0-44cb-82c4-b48b478c3ad7",
   "metadata": {},
   "source": [
    "#### Метрика precision"
   ]
  },
  {
   "cell_type": "markdown",
   "id": "8fbc9c94-5d80-4fd2-93d0-64fbdf323723",
   "metadata": {},
   "source": [
    "Для модели KNN она составляет 0.97 для 1 и 0.98 для 0 соответственно. Для модели дерева решений 0.99 в обоих случаях. Метрика precision или же точность показывает долю верно предсказанных положительных(отрицательных) случаев к общему количеству предсказанных положительных(отрицательных) случаев. Исходя из полученных метрик, можно заключить, что модель дерева решений делает меньше ложных предсказаний и 1 и 0 по сравнению с KNN."
   ]
  },
  {
   "cell_type": "markdown",
   "id": "e70a9d70-45f0-4552-986a-485295efde8e",
   "metadata": {},
   "source": [
    "#### Метрика recall"
   ]
  },
  {
   "cell_type": "markdown",
   "id": "8e046c1b-f4a8-4b17-88a8-4eb078c14413",
   "metadata": {},
   "source": [
    "Для модели KNN она составляет 0.98 и 0.96 для 0 и 1, для дерева 0.99 для обоих случаев. Метрика recall показывает как хорошо модель находит положительные(отрицательные) случаи. По этому параметру дерево решений опять обгоняет KNN."
   ]
  },
  {
   "cell_type": "markdown",
   "id": "63f06f5d-f2ba-4558-a4a7-ec7a35fa9a7d",
   "metadata": {},
   "source": [
    "#### Метрика F1"
   ]
  },
  {
   "cell_type": "markdown",
   "id": "aab7ab75-f3e5-4bbc-9a15-ce0ee3228c4c",
   "metadata": {},
   "source": [
    "Для модели KNN она составляет 0.97 для обоих случаев, для дерева 0.99 для обоих случаев. Метрика F1 показывает сбалансированность между точностью и полнотой. Исходя из полученных данных модель дерева ведет себя более сбалансированно, чем KNN. "
   ]
  },
  {
   "cell_type": "markdown",
   "id": "441d43f9-dd6e-441c-937c-1236757c4d57",
   "metadata": {},
   "source": [
    "Сравним модели по метрике accuracy, для этого подключим соответсвующую функцию из scikit-learn"
   ]
  },
  {
   "cell_type": "code",
   "execution_count": 86,
   "id": "c539c3e1-c3ea-4e98-846b-d1da1ae35c41",
   "metadata": {},
   "outputs": [],
   "source": [
    "from sklearn.metrics import accuracy_score"
   ]
  },
  {
   "cell_type": "code",
   "execution_count": 87,
   "id": "f76ea270-fdc2-4349-8f50-742b911aa456",
   "metadata": {},
   "outputs": [],
   "source": [
    "accuracy_knn = accuracy_score(y_test, y_knn_predicted)\n",
    "accuracy_tree = accuracy_score(y_test, y_tree_predicted)"
   ]
  },
  {
   "cell_type": "code",
   "execution_count": 88,
   "id": "10f6277a-9f8c-4714-a4fa-b87423b8c6be",
   "metadata": {},
   "outputs": [
    {
     "name": "stdout",
     "output_type": "stream",
     "text": [
      "Accuracy для KNN: 0.9737015121630507\n",
      "Accuracy для дерева решений: 0.9894806048652203\n"
     ]
    }
   ],
   "source": [
    "print(\"Accuracy для KNN:\", accuracy_knn)\n",
    "print(\"Accuracy для дерева решений:\", accuracy_tree)"
   ]
  },
  {
   "cell_type": "markdown",
   "id": "bd3933c2-77c1-432b-9ede-c8aabed25b82",
   "metadata": {},
   "source": [
    "#### Метрика Accuracy"
   ]
  },
  {
   "cell_type": "markdown",
   "id": "bd6de167-a5e6-4129-89d5-ad36dfc1a2e8",
   "metadata": {},
   "source": [
    "Метрика Accuracy определяет отношение верных предсказаний к общему числу предсказаний. Она легко интерпретируется и наглядно показывает точность модели. Сравнивая показатели этой метрики для модели KNN и дерева можно заключить, что дерево решений совершает больший процент верных предсказаний нежели KNN. "
   ]
  },
  {
   "cell_type": "markdown",
   "id": "1c5f3beb-8346-45d3-bbd8-fd6368990fb6",
   "metadata": {},
   "source": [
    "#### Вывод"
   ]
  },
  {
   "cell_type": "markdown",
   "id": "0c888add-5f65-4d2d-94fd-831d708f8457",
   "metadata": {},
   "source": [
    "Проделав лабораторную работу я познакомился с алгоритмами классификации KNN и дерево решений, а так же изучил методы оценки качества обученных моделей. Обучив модели на данных об авокадо, я заметил что дерево решений для выбранного датасета лучше классифицирует натуральное авокадо и авокадо вырощенное в промышленных условиях. Это можно увидеть в метриках. Причину такого поведения алгоритма я описал в комментариях к анализу ROC кривой."
   ]
  },
  {
   "cell_type": "code",
   "execution_count": null,
   "id": "184f700a-cda3-407b-986b-6a59ac2e0dcd",
   "metadata": {},
   "outputs": [],
   "source": []
  }
 ],
 "metadata": {
  "kernelspec": {
   "display_name": "Python 3 (ipykernel)",
   "language": "python",
   "name": "python3"
  },
  "language_info": {
   "codemirror_mode": {
    "name": "ipython",
    "version": 3
   },
   "file_extension": ".py",
   "mimetype": "text/x-python",
   "name": "python",
   "nbconvert_exporter": "python",
   "pygments_lexer": "ipython3",
   "version": "3.9.13"
  }
 },
 "nbformat": 4,
 "nbformat_minor": 5
}
